{
 "cells": [
  {
   "cell_type": "code",
   "execution_count": 1,
   "metadata": {
    "_cell_guid": "b1076dfc-b9ad-4769-8c92-a6c4dae69d19",
    "_uuid": "8f2839f25d086af736a60e9eeb907d3b93b6e0e5"
   },
   "outputs": [
    {
     "name": "stdout",
     "output_type": "stream",
     "text": [
      "['test.json', 'train.json', 'sample_submission.csv']\n"
     ]
    }
   ],
   "source": [
    "# This Python 3 environment comes with many helpful analytics libraries installed\n",
    "# It is defined by the kaggle/python docker image: https://github.com/kaggle/docker-python\n",
    "# For example, here's several helpful packages to load in\n",
    "\n",
    "import numpy as np # linear algebra\n",
    "import pandas as pd # data processing, CSV file I/O (e.g. pd.read_csv)\n",
    "import matplotlib.pyplot as plt\n",
    "import seaborn as sns\n",
    "from matplotlib import cm\n",
    "\n",
    "%matplotlib inline\n",
    "\n",
    "# Input data files are available in the \"../input/\" directory.\n",
    "# For example, running this (by clicking run or pressing Shift+Enter) will list the files in the input directory\n",
    "\n",
    "import os\n",
    "print(os.listdir(\"../input\"))\n",
    "\n",
    "# Any results you write to the current directory are saved as output."
   ]
  },
  {
   "cell_type": "code",
   "execution_count": 2,
   "metadata": {
    "_cell_guid": "79c7e3d0-c299-4dcb-8224-4455121ee9b0",
    "_uuid": "d629ff2d2480ee46fbb7e2d37f6b5fab8052498a"
   },
   "outputs": [
    {
     "ename": "TypeError",
     "evalue": "read_json() got an unexpected keyword argument 'records'",
     "output_type": "error",
     "traceback": [
      "\u001b[0;31m---------------------------------------------------------------------------\u001b[0m",
      "\u001b[0;31mTypeError\u001b[0m                                 Traceback (most recent call last)",
      "\u001b[0;32m<ipython-input-2-539277dae3e7>\u001b[0m in \u001b[0;36m<module>\u001b[0;34m()\u001b[0m\n\u001b[0;32m----> 1\u001b[0;31m \u001b[0mtrain_df\u001b[0m \u001b[0;34m=\u001b[0m \u001b[0mpd\u001b[0m\u001b[0;34m.\u001b[0m\u001b[0mread_json\u001b[0m\u001b[0;34m(\u001b[0m\u001b[0;34m'../input/train.json'\u001b[0m\u001b[0;34m,\u001b[0m \u001b[0mrecords\u001b[0m \u001b[0;34m=\u001b[0m \u001b[0;36m5\u001b[0m\u001b[0;34m)\u001b[0m\u001b[0;34m\u001b[0m\u001b[0m\n\u001b[0m\u001b[1;32m      2\u001b[0m \u001b[0mtest_df\u001b[0m \u001b[0;34m=\u001b[0m \u001b[0mpd\u001b[0m\u001b[0;34m.\u001b[0m\u001b[0mread_json\u001b[0m\u001b[0;34m(\u001b[0m\u001b[0;34m\"../input/test.json\"\u001b[0m\u001b[0;34m,\u001b[0m \u001b[0mrecords\u001b[0m \u001b[0;34m=\u001b[0m \u001b[0;36m5\u001b[0m\u001b[0;34m)\u001b[0m\u001b[0;34m\u001b[0m\u001b[0m\n\u001b[1;32m      3\u001b[0m \u001b[0mtrain_df\u001b[0m\u001b[0;34m.\u001b[0m\u001b[0mhead\u001b[0m\u001b[0;34m(\u001b[0m\u001b[0;34m)\u001b[0m\u001b[0;34m\u001b[0m\u001b[0m\n",
      "\u001b[0;31mTypeError\u001b[0m: read_json() got an unexpected keyword argument 'records'"
     ]
    }
   ],
   "source": [
    "train_df = pd.read_json('../input/train.json')\n",
    "test_df = pd.read_json(\"../input/test.json\")\n",
    "train_df.head()"
   ]
  },
  {
   "cell_type": "code",
   "execution_count": 3,
   "metadata": {
    "_uuid": "24452ee8c4a84a183e2090c263d6dfa723654d08"
   },
   "outputs": [
    {
     "name": "stdout",
     "output_type": "stream",
     "text": [
      "<class 'pandas.core.frame.DataFrame'>\n",
      "Int64Index: 39481 entries, 10 to 99994\n",
      "Data columns (total 15 columns):\n",
      "bathrooms          39481 non-null float64\n",
      "bedrooms           39481 non-null int64\n",
      "building_id        39481 non-null object\n",
      "created            39481 non-null object\n",
      "description        39481 non-null object\n",
      "display_address    39481 non-null object\n",
      "features           39481 non-null object\n",
      "interest_level     39481 non-null object\n",
      "latitude           39481 non-null float64\n",
      "listing_id         39481 non-null int64\n",
      "longitude          39481 non-null float64\n",
      "manager_id         39481 non-null object\n",
      "photos             39481 non-null object\n",
      "price              39481 non-null int64\n",
      "street_address     39481 non-null object\n",
      "dtypes: float64(3), int64(3), object(9)\n",
      "memory usage: 4.8+ MB\n"
     ]
    }
   ],
   "source": [
    "train_df.info()"
   ]
  },
  {
   "cell_type": "markdown",
   "metadata": {
    "_uuid": "944a1f9ce8d584d425430a35b140ee9e3b9baa30"
   },
   "source": [
    "**Numerical attributes**: bathrooms, bedrooms, latitude, longitude, price  \n",
    "**Text attributes**: description, display_address, features, street_address  \n",
    "**Other useful attributes**: created, manager_id  \n",
    "**Useless attributes**: building_id - captured through latlong, display_address etc,."
   ]
  },
  {
   "cell_type": "code",
   "execution_count": 4,
   "metadata": {
    "_uuid": "4ef03016a23915640be96f262d7b8467abb465ef"
   },
   "outputs": [
    {
     "name": "stdout",
     "output_type": "stream",
     "text": [
      "Train Rows :  39481\n",
      "Test Rows :  9871\n"
     ]
    }
   ],
   "source": [
    "print(\"Train Rows : \", train_df.shape[0])\n",
    "print(\"Test Rows : \", test_df.shape[0])"
   ]
  },
  {
   "cell_type": "code",
   "execution_count": 5,
   "metadata": {
    "_uuid": "6401523ae2846205b744793a8710e42ed79f3330"
   },
   "outputs": [
    {
     "data": {
      "text/html": [
       "<div>\n",
       "<style scoped>\n",
       "    .dataframe tbody tr th:only-of-type {\n",
       "        vertical-align: middle;\n",
       "    }\n",
       "\n",
       "    .dataframe tbody tr th {\n",
       "        vertical-align: top;\n",
       "    }\n",
       "\n",
       "    .dataframe thead th {\n",
       "        text-align: right;\n",
       "    }\n",
       "</style>\n",
       "<table border=\"1\" class=\"dataframe\">\n",
       "  <thead>\n",
       "    <tr style=\"text-align: right;\">\n",
       "      <th></th>\n",
       "      <th>bathrooms</th>\n",
       "      <th>bedrooms</th>\n",
       "      <th>latitude</th>\n",
       "      <th>listing_id</th>\n",
       "      <th>longitude</th>\n",
       "      <th>price</th>\n",
       "    </tr>\n",
       "  </thead>\n",
       "  <tbody>\n",
       "    <tr>\n",
       "      <th>count</th>\n",
       "      <td>39481.000000</td>\n",
       "      <td>39481.000000</td>\n",
       "      <td>39481.000000</td>\n",
       "      <td>39481.000000</td>\n",
       "      <td>39481.000000</td>\n",
       "      <td>3.948100e+04</td>\n",
       "    </tr>\n",
       "    <tr>\n",
       "      <th>mean</th>\n",
       "      <td>1.213964</td>\n",
       "      <td>1.543933</td>\n",
       "      <td>40.741070</td>\n",
       "      <td>24681.670170</td>\n",
       "      <td>-73.954859</td>\n",
       "      <td>3.817728e+03</td>\n",
       "    </tr>\n",
       "    <tr>\n",
       "      <th>std</th>\n",
       "      <td>0.501449</td>\n",
       "      <td>1.115358</td>\n",
       "      <td>0.651838</td>\n",
       "      <td>14255.105309</td>\n",
       "      <td>1.203249</td>\n",
       "      <td>2.334313e+04</td>\n",
       "    </tr>\n",
       "    <tr>\n",
       "      <th>min</th>\n",
       "      <td>0.000000</td>\n",
       "      <td>0.000000</td>\n",
       "      <td>0.000000</td>\n",
       "      <td>0.000000</td>\n",
       "      <td>-118.271000</td>\n",
       "      <td>4.300000e+01</td>\n",
       "    </tr>\n",
       "    <tr>\n",
       "      <th>25%</th>\n",
       "      <td>1.000000</td>\n",
       "      <td>1.000000</td>\n",
       "      <td>40.728200</td>\n",
       "      <td>12407.000000</td>\n",
       "      <td>-73.991700</td>\n",
       "      <td>2.500000e+03</td>\n",
       "    </tr>\n",
       "    <tr>\n",
       "      <th>50%</th>\n",
       "      <td>1.000000</td>\n",
       "      <td>1.000000</td>\n",
       "      <td>40.751800</td>\n",
       "      <td>24665.000000</td>\n",
       "      <td>-73.977900</td>\n",
       "      <td>3.150000e+03</td>\n",
       "    </tr>\n",
       "    <tr>\n",
       "      <th>75%</th>\n",
       "      <td>1.000000</td>\n",
       "      <td>2.000000</td>\n",
       "      <td>40.774200</td>\n",
       "      <td>37051.000000</td>\n",
       "      <td>-73.954800</td>\n",
       "      <td>4.108000e+03</td>\n",
       "    </tr>\n",
       "    <tr>\n",
       "      <th>max</th>\n",
       "      <td>10.000000</td>\n",
       "      <td>7.000000</td>\n",
       "      <td>44.883500</td>\n",
       "      <td>49351.000000</td>\n",
       "      <td>0.000000</td>\n",
       "      <td>4.490000e+06</td>\n",
       "    </tr>\n",
       "  </tbody>\n",
       "</table>\n",
       "</div>"
      ],
      "text/plain": [
       "          bathrooms      bedrooms      ...          longitude         price\n",
       "count  39481.000000  39481.000000      ...       39481.000000  3.948100e+04\n",
       "mean       1.213964      1.543933      ...         -73.954859  3.817728e+03\n",
       "std        0.501449      1.115358      ...           1.203249  2.334313e+04\n",
       "min        0.000000      0.000000      ...        -118.271000  4.300000e+01\n",
       "25%        1.000000      1.000000      ...         -73.991700  2.500000e+03\n",
       "50%        1.000000      1.000000      ...         -73.977900  3.150000e+03\n",
       "75%        1.000000      2.000000      ...         -73.954800  4.108000e+03\n",
       "max       10.000000      7.000000      ...           0.000000  4.490000e+06\n",
       "\n",
       "[8 rows x 6 columns]"
      ]
     },
     "execution_count": 5,
     "metadata": {},
     "output_type": "execute_result"
    }
   ],
   "source": [
    "train_df.describe()"
   ]
  },
  {
   "cell_type": "code",
   "execution_count": 6,
   "metadata": {
    "_uuid": "93205dd1d549a71f1c2f9e9ba01213789c7d039a"
   },
   "outputs": [
    {
     "data": {
      "image/png": "[encoded data removed]",
      "text/plain": [
       "<Figure size 576x288 with 1 Axes>"
      ]
     },
     "metadata": {
      "needs_background": "light"
     },
     "output_type": "display_data"
    }
   ],
   "source": [
    "# Analyzing output labels\n",
    "\n",
    "int_level = train_df['interest_level'].value_counts()\n",
    "\n",
    "plt.figure(figsize=(8,4))\n",
    "sns.barplot(int_level.index, int_level.values, alpha=0.8)\n",
    "plt.ylabel('Number of occurrences', fontsize=12)\n",
    "plt.xlabel('Interest level', fontsize=12)\n",
    "plt.show()"
   ]
  },
  {
   "cell_type": "markdown",
   "metadata": {
    "_uuid": "8d50e1f2c3c0487fa4438dcc15e9b2148aa44262"
   },
   "source": [
    "**Inference**: The training data is biased towards low interest levels. We have relatively negligible records for high interest records. But this is logically consistent."
   ]
  },
  {
   "cell_type": "code",
   "execution_count": 7,
   "metadata": {
    "_uuid": "e90594745c9e1b62f13a030549be87dc108f4bd2"
   },
   "outputs": [
    {
     "data": {
      "text/html": [
       "<div>\n",
       "<style scoped>\n",
       "    .dataframe tbody tr th:only-of-type {\n",
       "        vertical-align: middle;\n",
       "    }\n",
       "\n",
       "    .dataframe tbody tr th {\n",
       "        vertical-align: top;\n",
       "    }\n",
       "\n",
       "    .dataframe thead th {\n",
       "        text-align: right;\n",
       "    }\n",
       "</style>\n",
       "<table border=\"1\" class=\"dataframe\">\n",
       "  <thead>\n",
       "    <tr style=\"text-align: right;\">\n",
       "      <th></th>\n",
       "      <th>bathrooms</th>\n",
       "      <th>bedrooms</th>\n",
       "      <th>latitude</th>\n",
       "      <th>listing_id</th>\n",
       "      <th>longitude</th>\n",
       "      <th>price</th>\n",
       "    </tr>\n",
       "  </thead>\n",
       "  <tbody>\n",
       "    <tr>\n",
       "      <th>bathrooms</th>\n",
       "      <td>1.000000</td>\n",
       "      <td>0.534493</td>\n",
       "      <td>-0.013338</td>\n",
       "      <td>-0.007960</td>\n",
       "      <td>0.013734</td>\n",
       "      <td>0.065493</td>\n",
       "    </tr>\n",
       "    <tr>\n",
       "      <th>bedrooms</th>\n",
       "      <td>0.534493</td>\n",
       "      <td>1.000000</td>\n",
       "      <td>-0.007508</td>\n",
       "      <td>-0.005565</td>\n",
       "      <td>0.008779</td>\n",
       "      <td>0.049353</td>\n",
       "    </tr>\n",
       "    <tr>\n",
       "      <th>latitude</th>\n",
       "      <td>-0.013338</td>\n",
       "      <td>-0.007508</td>\n",
       "      <td>1.000000</td>\n",
       "      <td>-0.007934</td>\n",
       "      <td>-0.964796</td>\n",
       "      <td>-0.000949</td>\n",
       "    </tr>\n",
       "    <tr>\n",
       "      <th>listing_id</th>\n",
       "      <td>-0.007960</td>\n",
       "      <td>-0.005565</td>\n",
       "      <td>-0.007934</td>\n",
       "      <td>1.000000</td>\n",
       "      <td>0.008552</td>\n",
       "      <td>-0.007588</td>\n",
       "    </tr>\n",
       "    <tr>\n",
       "      <th>longitude</th>\n",
       "      <td>0.013734</td>\n",
       "      <td>0.008779</td>\n",
       "      <td>-0.964796</td>\n",
       "      <td>0.008552</td>\n",
       "      <td>1.000000</td>\n",
       "      <td>-0.000015</td>\n",
       "    </tr>\n",
       "    <tr>\n",
       "      <th>price</th>\n",
       "      <td>0.065493</td>\n",
       "      <td>0.049353</td>\n",
       "      <td>-0.000949</td>\n",
       "      <td>-0.007588</td>\n",
       "      <td>-0.000015</td>\n",
       "      <td>1.000000</td>\n",
       "    </tr>\n",
       "  </tbody>\n",
       "</table>\n",
       "</div>"
      ],
      "text/plain": [
       "            bathrooms  bedrooms    ...     longitude     price\n",
       "bathrooms    1.000000  0.534493    ...      0.013734  0.065493\n",
       "bedrooms     0.534493  1.000000    ...      0.008779  0.049353\n",
       "latitude    -0.013338 -0.007508    ...     -0.964796 -0.000949\n",
       "listing_id  -0.007960 -0.005565    ...      0.008552 -0.007588\n",
       "longitude    0.013734  0.008779    ...      1.000000 -0.000015\n",
       "price        0.065493  0.049353    ...     -0.000015  1.000000\n",
       "\n",
       "[6 rows x 6 columns]"
      ]
     },
     "execution_count": 7,
     "metadata": {},
     "output_type": "execute_result"
    }
   ],
   "source": [
    "train_df.corr()"
   ]
  },
  {
   "cell_type": "markdown",
   "metadata": {
    "_uuid": "1833eb4bc32b06324cf4bc03eab2ce731ae9bbc2"
   },
   "source": [
    "**Inference**: Bathrooms and Bedrooms have strong correlation."
   ]
  },
  {
   "cell_type": "markdown",
   "metadata": {
    "_uuid": "25c4edeb63f9e177a0c6be9030a0bc9f43a7f547"
   },
   "source": [
    "# Analysis of \"Bathrooms\" attribute"
   ]
  },
  {
   "cell_type": "code",
   "execution_count": 8,
   "metadata": {
    "_uuid": "03433a54c87cf24e29bd284b4ba9a0483908ac71"
   },
   "outputs": [
    {
     "data": {
      "image/png": "[encoded data removed]",
      "text/plain": [
       "<Figure size 576x288 with 1 Axes>"
      ]
     },
     "metadata": {
      "needs_background": "light"
     },
     "output_type": "display_data"
    }
   ],
   "source": [
    "cnt_srs = train_df['bathrooms'].value_counts()\n",
    "\n",
    "plt.figure(figsize=(8,4))\n",
    "sns.barplot(cnt_srs.index, cnt_srs.values, alpha=0.8)\n",
    "plt.ylabel('Number of occurrences', fontsize=12)\n",
    "plt.xlabel('Bathrooms', fontsize=12)\n",
    "plt.show()"
   ]
  },
  {
   "cell_type": "code",
   "execution_count": 9,
   "metadata": {
    "_uuid": "9b1e8eaa1633785f48d649037f374e7977153176"
   },
   "outputs": [
    {
     "name": "stderr",
     "output_type": "stream",
     "text": [
      "/opt/conda/lib/python3.6/site-packages/scipy/stats/stats.py:1713: FutureWarning: Using a non-tuple sequence for multidimensional indexing is deprecated; use `arr[tuple(seq)]` instead of `arr[seq]`. In the future this will be interpreted as an array index, `arr[np.array(seq)]`, which will result either in an error or a different result.\n",
      "  return np.add.reduce(sorted[indexer] * weights, axis=axis) / sumval\n"
     ]
    },
    {
     "data": {
      "image/png": "[encoded data removed]",
      "text/plain": [
       "<Figure size 576x288 with 1 Axes>"
      ]
     },
     "metadata": {
      "needs_background": "light"
     },
     "output_type": "display_data"
    }
   ],
   "source": [
    "plt.figure(figsize=(8,4))\n",
    "sns.violinplot(x='interest_level', y='bathrooms', data=train_df)\n",
    "plt.xlabel('Interest level', fontsize=12)\n",
    "plt.ylabel('Bathrooms', fontsize=12)\n",
    "plt.show()"
   ]
  },
  {
   "cell_type": "markdown",
   "metadata": {
    "_uuid": "05c84a6dfd7c94763f9312ed257afc75814a44bf"
   },
   "source": [
    "If bathrooms are greater than 4 then interest level is low. Due to fewer records having number of bathrooms greater than 4 it makes sense to group everything greater than 4 into 4 itself."
   ]
  },
  {
   "cell_type": "code",
   "execution_count": 10,
   "metadata": {
    "_uuid": "e0f1d321eeb1a3566a185713d4f859b93c932e79"
   },
   "outputs": [
    {
     "name": "stderr",
     "output_type": "stream",
     "text": [
      "/opt/conda/lib/python3.6/site-packages/scipy/stats/stats.py:1713: FutureWarning: Using a non-tuple sequence for multidimensional indexing is deprecated; use `arr[tuple(seq)]` instead of `arr[seq]`. In the future this will be interpreted as an array index, `arr[np.array(seq)]`, which will result either in an error or a different result.\n",
      "  return np.add.reduce(sorted[indexer] * weights, axis=axis) / sumval\n"
     ]
    },
    {
     "data": {
      "image/png": "[encoded data removed]",
      "text/plain": [
       "<Figure size 576x288 with 1 Axes>"
      ]
     },
     "metadata": {
      "needs_background": "light"
     },
     "output_type": "display_data"
    }
   ],
   "source": [
    "train_df.loc[train_df['bathrooms'] >= 4, 'bathrooms'] = 4\n",
    "plt.figure(figsize=(8,4))\n",
    "sns.violinplot(x='interest_level', y='bathrooms', data=train_df)\n",
    "plt.xlabel('Interest level', fontsize=12)\n",
    "plt.ylabel('bathrooms', fontsize=12)\n",
    "plt.show()"
   ]
  },
  {
   "cell_type": "code",
   "execution_count": 11,
   "metadata": {
    "_uuid": "b28108c5d893cc947c17b262c6f3a75d165b607d"
   },
   "outputs": [
    {
     "data": {
      "image/png": "[encoded data removed]",
      "text/plain": [
       "<Figure size 576x432 with 1 Axes>"
      ]
     },
     "metadata": {
      "needs_background": "light"
     },
     "output_type": "display_data"
    }
   ],
   "source": [
    "plt.figure(figsize=(8,6))\n",
    "sns.countplot(x='bathrooms', hue='interest_level', data=train_df)\n",
    "plt.ylabel('Number of Occurrences', fontsize=12)\n",
    "plt.xlabel('Bathrooms', fontsize=12)\n",
    "plt.show()"
   ]
  },
  {
   "cell_type": "markdown",
   "metadata": {
    "_uuid": "77061045ebebd4f543ad124203b14f4ebd5e4314"
   },
   "source": [
    "The violin plot shows that interest_level has different values for the same number of bathrooms since the quartiles almost coincide. This might mean there isn't a direct correlation between number of bathrooms and interest."
   ]
  },
  {
   "cell_type": "markdown",
   "metadata": {
    "_uuid": "be08556de583cd00434e3249491ff861de85bc76"
   },
   "source": [
    "# Analysis of \"Bedrooms\" Attribute"
   ]
  },
  {
   "cell_type": "code",
   "execution_count": 12,
   "metadata": {
    "_uuid": "0384014ce66d423daf81904a22d0a03cde3ac68a"
   },
   "outputs": [
    {
     "data": {
      "image/png": "[encoded data removed]",
      "text/plain": [
       "<Figure size 576x288 with 1 Axes>"
      ]
     },
     "metadata": {
      "needs_background": "light"
     },
     "output_type": "display_data"
    }
   ],
   "source": [
    "cnt_srs = train_df['bedrooms'].value_counts()\n",
    "\n",
    "plt.figure(figsize=(8,4))\n",
    "sns.barplot(cnt_srs.index, cnt_srs.values, alpha=0.8)\n",
    "plt.ylabel('Number of Occurrences', fontsize=12)\n",
    "plt.xlabel('bedrooms', fontsize=12)\n",
    "plt.show()"
   ]
  },
  {
   "cell_type": "code",
   "execution_count": 13,
   "metadata": {
    "_uuid": "8fdc2e3021841a54706cea2337fef5d8d7d3bf5e"
   },
   "outputs": [
    {
     "data": {
      "image/png": "[encoded data removed]",
      "text/plain": [
       "<Figure size 576x432 with 1 Axes>"
      ]
     },
     "metadata": {
      "needs_background": "light"
     },
     "output_type": "display_data"
    }
   ],
   "source": [
    "plt.figure(figsize=(8,6))\n",
    "sns.countplot(x='bedrooms', hue='interest_level', data=train_df)\n",
    "plt.ylabel('Number of Occurrences', fontsize=12)\n",
    "plt.xlabel('bedrooms', fontsize=12)\n",
    "plt.show()"
   ]
  },
  {
   "cell_type": "code",
   "execution_count": 14,
   "metadata": {
    "_uuid": "9f16be2e039f3b2322adf8b58eb066eae6cc2f98"
   },
   "outputs": [
    {
     "data": {
      "image/png": "[encoded data removed]",
      "text/plain": [
       "<Figure size 576x288 with 1 Axes>"
      ]
     },
     "metadata": {
      "needs_background": "light"
     },
     "output_type": "display_data"
    }
   ],
   "source": [
    "plt.figure(figsize=(8,4))\n",
    "sns.boxplot(x='interest_level', y='bedrooms', data=train_df)\n",
    "plt.xlabel('Interest level', fontsize=12)\n",
    "plt.ylabel('Bedrooms', fontsize=12)\n",
    "plt.show()"
   ]
  },
  {
   "cell_type": "markdown",
   "metadata": {
    "_uuid": "83c3521d31cc74748ec448eae6e54352703837ef"
   },
   "source": [
    "For each category there is a guassian like distribution with respect to number of bedrooms. The quantiles almost coincide for all three categories which might mean that there isn't a direct relation between number of bedrooms and interest."
   ]
  },
  {
   "cell_type": "markdown",
   "metadata": {
    "_uuid": "3e69e05cbabef64e6300b534f0f59a56f6843e7b"
   },
   "source": [
    "# Analysis of \"Price\" attribute"
   ]
  },
  {
   "cell_type": "code",
   "execution_count": 15,
   "metadata": {
    "_uuid": "1e2c6d8432cdb3610f5f3e84ea770489ca233202"
   },
   "outputs": [
    {
     "data": {
      "image/png": "[encoded data removed]",
      "text/plain": [
       "<Figure size 576x432 with 1 Axes>"
      ]
     },
     "metadata": {
      "needs_background": "light"
     },
     "output_type": "display_data"
    }
   ],
   "source": [
    "plt.figure(figsize=(8,6))\n",
    "plt.scatter(range(train_df.shape[0]), np.sort(train_df.price.values))\n",
    "plt.xlabel('index', fontsize=12)\n",
    "plt.ylabel('price', fontsize=12)\n",
    "plt.show()"
   ]
  },
  {
   "cell_type": "code",
   "execution_count": 16,
   "metadata": {
    "_uuid": "f41d568644b595f3f8d53820a0f53e383883cd0e"
   },
   "outputs": [
    {
     "data": {
      "image/png": "[encoded data removed]",
      "text/plain": [
       "<Figure size 576x288 with 1 Axes>"
      ]
     },
     "metadata": {
      "needs_background": "light"
     },
     "output_type": "display_data"
    }
   ],
   "source": [
    "plt.figure(figsize=(8,4))\n",
    "sns.boxplot(x='price', data=train_df)\n",
    "plt.xlabel('Price', fontsize=12)\n",
    "plt.show()"
   ]
  },
  {
   "cell_type": "code",
   "execution_count": 17,
   "metadata": {
    "_uuid": "e840ec46894f347d28adf63ddd3a16f037abe101",
    "scrolled": true
   },
   "outputs": [
    {
     "name": "stdout",
     "output_type": "stream",
     "text": [
      "2\n",
      "4\n",
      "13\n",
      "61\n",
      "105\n",
      "255\n",
      "789\n"
     ]
    }
   ],
   "source": [
    "print(len(train_df[train_df['price'] >= 1000000]))\n",
    "print(len(train_df[train_df['price'] >= 100000]))\n",
    "print(len(train_df[train_df['price'] >= 50000]))\n",
    "print(len(train_df[train_df['price'] >= 25000]))\n",
    "print(len(train_df[train_df['price'] >= 20000]))\n",
    "print(len(train_df[train_df['price'] >= 15000]))\n",
    "print(len(train_df[train_df['price'] >= 10000]))"
   ]
  },
  {
   "cell_type": "markdown",
   "metadata": {
    "_uuid": "ccd5b1fdb33848befe815fc6efa44d09b8803ae9"
   },
   "source": [
    "The 75th percentile is around 4000. And number of records above 15000 is just 205 while there are around 500 between 10000 and 15000. Thus, 15000 can be upper bound for keeping records."
   ]
  },
  {
   "cell_type": "code",
   "execution_count": 18,
   "metadata": {
    "_uuid": "5649bc9c6c238795096e50b82c0175cf40202c61"
   },
   "outputs": [
    {
     "data": {
      "image/png": "[encoded data removed]",
      "text/plain": [
       "<Figure size 576x288 with 1 Axes>"
      ]
     },
     "metadata": {
      "needs_background": "light"
     },
     "output_type": "display_data"
    }
   ],
   "source": [
    "train_df.drop(train_df[train_df['price'] >= 15000].index, inplace = True)\n",
    "\n",
    "plt.figure(figsize=(8,4))\n",
    "sns.boxplot(x='price', data=train_df)\n",
    "plt.xlabel('Price', fontsize=12)\n",
    "plt.show()"
   ]
  },
  {
   "cell_type": "code",
   "execution_count": 19,
   "metadata": {
    "_uuid": "ab3aa7175998f404761aa3aebd081ba049beb85e"
   },
   "outputs": [
    {
     "name": "stderr",
     "output_type": "stream",
     "text": [
      "/opt/conda/lib/python3.6/site-packages/scipy/stats/stats.py:1713: FutureWarning: Using a non-tuple sequence for multidimensional indexing is deprecated; use `arr[tuple(seq)]` instead of `arr[seq]`. In the future this will be interpreted as an array index, `arr[np.array(seq)]`, which will result either in an error or a different result.\n",
      "  return np.add.reduce(sorted[indexer] * weights, axis=axis) / sumval\n"
     ]
    },
    {
     "data": {
      "image/png": "[encoded data removed]",
      "text/plain": [
       "<Figure size 576x432 with 1 Axes>"
      ]
     },
     "metadata": {
      "needs_background": "light"
     },
     "output_type": "display_data"
    }
   ],
   "source": [
    "plt.figure(figsize=(8,6))\n",
    "sns.distplot(train_df.price.values, bins=100, kde=True)\n",
    "plt.xlabel('price', fontsize=12)\n",
    "plt.show()"
   ]
  },
  {
   "cell_type": "markdown",
   "metadata": {
    "_uuid": "141f86391440ffbfc2acb8c0837451bc9327c770"
   },
   "source": [
    "This distribution looks more logical. There are outliers but they are greater in number, so they might be important to the model. Moreover outlier values follow the distribution to a certain extent."
   ]
  },
  {
   "cell_type": "code",
   "execution_count": 20,
   "metadata": {
    "_uuid": "7580b19b319082e65ccb53efe325588e175871d5"
   },
   "outputs": [
    {
     "name": "stderr",
     "output_type": "stream",
     "text": [
      "/opt/conda/lib/python3.6/site-packages/scipy/stats/stats.py:1713: FutureWarning: Using a non-tuple sequence for multidimensional indexing is deprecated; use `arr[tuple(seq)]` instead of `arr[seq]`. In the future this will be interpreted as an array index, `arr[np.array(seq)]`, which will result either in an error or a different result.\n",
      "  return np.add.reduce(sorted[indexer] * weights, axis=axis) / sumval\n"
     ]
    },
    {
     "data": {
      "image/png": "[encoded data removed]",
      "text/plain": [
       "<Figure size 576x432 with 1 Axes>"
      ]
     },
     "metadata": {
      "needs_background": "light"
     },
     "output_type": "display_data"
    }
   ],
   "source": [
    "plt.figure(figsize=(8,6))\n",
    "sns.barplot(y='price', x='interest_level', data=train_df)\n",
    "plt.ylabel('Number of Occurrences', fontsize=12)\n",
    "plt.xlabel('Price', fontsize=12)\n",
    "plt.show()"
   ]
  },
  {
   "cell_type": "markdown",
   "metadata": {
    "_uuid": "5e6d5e66e23ff17b0ecf432edcd9bfb2a310228c"
   },
   "source": [
    "The above plot shows that greater the price lower the interest_level on average which is logically consistent."
   ]
  },
  {
   "cell_type": "markdown",
   "metadata": {
    "_uuid": "296ec06de7d281dd93bfd904cccdd82676f3b1dc"
   },
   "source": [
    "# Analysis of \"Latitude\" attribute"
   ]
  },
  {
   "cell_type": "code",
   "execution_count": null,
   "metadata": {
    "_uuid": "aced9a98f974893a92d39e263d059c3ec208aee0"
   },
   "outputs": [],
   "source": [
    "plt.figure(figsize=(8,4))\n",
    "sns.boxplot(x='latitude', data=train_df)\n",
    "plt.xlabel('Latitude', fontsize=12)\n",
    "plt.show()"
   ]
  },
  {
   "cell_type": "markdown",
   "metadata": {
    "_uuid": "81291da8f406cee0dd25e5d59331e66e66e11072"
   },
   "source": [
    "Clearly there are incorrect values for latitude that are close to 0. A lot of values are concentrated from 40.5 to 41. There are not a lot of outliers so it might make sense to approximate or remove all outliers. For analysis, we'll approximate top and bottom 1%."
   ]
  },
  {
   "cell_type": "code",
   "execution_count": null,
   "metadata": {
    "_uuid": "03ff17fc73554d63a0f2771a296151243842d510"
   },
   "outputs": [],
   "source": [
    "llimit = np.percentile(train_df.latitude.values, 1)\n",
    "ulimit = np.percentile(train_df.latitude.values, 99)\n",
    "\n",
    "print(\"Lower limit for latitude being set as:\", llimit)\n",
    "print(\"Upper limit for latitude being set as:\", ulimit)\n",
    "\n",
    "train_df.loc[train_df['latitude'] < llimit, 'latitude'] = llimit\n",
    "train_df.loc[train_df['latitude'] > ulimit, 'latitude'] = ulimit"
   ]
  },
  {
   "cell_type": "code",
   "execution_count": null,
   "metadata": {
    "_uuid": "15403d4dd3a8a2c0d3aebddc0ac50d83cbf8a5cb"
   },
   "outputs": [],
   "source": [
    "plt.figure(figsize=(8,4))\n",
    "sns.boxplot(x='latitude', data=train_df)\n",
    "plt.xlabel('Latitude', fontsize=12)\n",
    "plt.show()\n",
    "\n",
    "plt.figure(figsize=(8,6))\n",
    "sns.distplot(train_df.latitude.values, bins=50, kde=False)\n",
    "plt.xlabel('l=Latitude', fontsize=12)\n",
    "plt.show()"
   ]
  },
  {
   "cell_type": "markdown",
   "metadata": {
    "_uuid": "0eed050b3ce5c6700a7ef2478c1a9879328c7d3d"
   },
   "source": [
    "Although due to our approximation there is a small spike towards the ends, we get a much better distribution now."
   ]
  },
  {
   "cell_type": "markdown",
   "metadata": {
    "_uuid": "783d392464e582d64d866e9d2b434b641de80dbb"
   },
   "source": [
    "# Analysis of \"Longitude\" attribute"
   ]
  },
  {
   "cell_type": "code",
   "execution_count": null,
   "metadata": {
    "_uuid": "8ee0dcf128ae00b2581a172a23da5ec6c164ea18"
   },
   "outputs": [],
   "source": [
    "plt.figure(figsize=(8,4))\n",
    "sns.boxplot(x='longitude', data=train_df)\n",
    "plt.xlabel('Longitude', fontsize=12)\n",
    "plt.show()"
   ]
  },
  {
   "cell_type": "markdown",
   "metadata": {
    "_uuid": "8600952f7998c2671856fdfe57be9192f8bef6ce"
   },
   "source": [
    "Once again there are seemingly incorrect values for longitude. We'll adopt the previous approach of approximating the first and last 1% records to get the distribution of remaining records."
   ]
  },
  {
   "cell_type": "code",
   "execution_count": null,
   "metadata": {
    "_uuid": "3bb796f022963df669583e30eba15c8f78eb3c23"
   },
   "outputs": [],
   "source": [
    "llimit = np.percentile(train_df.longitude.values, 1)\n",
    "ulimit = np.percentile(train_df.longitude.values, 99)\n",
    "\n",
    "print(\"Lower limit for longitude being set as:\", llimit)\n",
    "print(\"Upper limit for longitude being set as:\", ulimit)\n",
    "\n",
    "train_df.loc[train_df['longitude'] < llimit, 'longitude'] = llimit\n",
    "train_df.loc[train_df['longitude'] > ulimit, 'longitude'] = ulimit"
   ]
  },
  {
   "cell_type": "code",
   "execution_count": null,
   "metadata": {
    "_uuid": "8baa2b42899b3153a31f4972b948338bcd9584c0"
   },
   "outputs": [],
   "source": [
    "plt.figure(figsize=(8,4))\n",
    "sns.boxplot(x='longitude', data=train_df)\n",
    "plt.xlabel('longitude', fontsize=12)\n",
    "plt.show()\n",
    "\n",
    "plt.figure(figsize=(8,6))\n",
    "sns.distplot(train_df.longitude.values, bins=50, kde=False)\n",
    "plt.xlabel('Longitude', fontsize=12)\n",
    "plt.show()"
   ]
  },
  {
   "cell_type": "markdown",
   "metadata": {
    "_uuid": "01040fbb78cab63721e5b39478cdd48fb4a0800d"
   },
   "source": [
    "The right tail of the distribution doesn't look very \"nice\" though."
   ]
  },
  {
   "cell_type": "markdown",
   "metadata": {
    "_uuid": "45b81613a0a84ae610640f8e0313b714031e4d3f"
   },
   "source": [
    "# Analysis of LatLong pairs"
   ]
  },
  {
   "cell_type": "code",
   "execution_count": null,
   "metadata": {
    "_uuid": "de5c4095eb5574d228a2392bf209f90fb2e8a1d7"
   },
   "outputs": [],
   "source": [
    "sns.pairplot(x_vars=['latitude'], y_vars=['longitude'], data=train_df, hue=\"interest_level\", size=13)"
   ]
  },
  {
   "cell_type": "markdown",
   "metadata": {
    "_uuid": "896c1a6eae7c7a916495048839ed5d38c32f1836"
   },
   "source": [
    "The lines at the edges are most probably due to our approximation for top and bottom 1% records.\n",
    "\n",
    "The only pattern I can find is that bottom right are usually low and top left areas have more high interest plots. I was thinking that we can convert the latlong pairs into categorical values by kind of grouping points in the same area if they also have same interest level. But that seems hard here."
   ]
  },
  {
   "cell_type": "markdown",
   "metadata": {
    "_uuid": "5545e6bef273a05adb814ad7bcf1ab2b9e761ef5"
   },
   "source": [
    "# Summary of analysis of numerical attributes\n",
    "\n",
    "**Numerical attributes**: bathrooms, bedrooms, latitude, longitude, price  \n",
    "\n",
    "## Bathrooms\n",
    "- If a house has more than 4 bathrooms then it has only low interest levels. So converting bathroom values greater than 4 to 4 will help analyze data.\n",
    "- There is a strong correlation between number of bathrooms and number of bedrooms (about 0.5).\n",
    "- There doesn't seem to be a clear relation between interest level and number of bathrooms since the quartiles coincide for all interest levels.\n",
    "\n",
    "## Bedrooms\n",
    "- The number of bedrooms seemed to have reasonable values and a guassian like distribution. There didn't seem any need for sanitization.\n",
    "- Similar to bathrooms, there doesn't seem to be a correlation between number of bedrooms and interest since the quartiles are almost the same for all interest levels.\n",
    "\n",
    "## Prices\n",
    "- There are a few incorrect values i.e. random skips in the distribution. A reasonable upper bound was found to be 15000, because only ~200 datapoints had a price greater than 15000.\n",
    "- However there are around 2000 outliers if Inter Quartile Range is used. The upper bound here seems to be close to 7000. There are some outliers close to 0 also. Dropping or correcting these 2000 values might make a difference.\n",
    "- There is a clear relation between price and interest level (as seen by the mean). Greater the price, lower the interest level.\n",
    "\n",
    "## Latitude and Longitude\n",
    "- Both latitude and longitude had a few incorrect values i.e. random jumps in values. We approximated the top and bottom 1% records to the upper limit and lower limit respectively. We get a guassian like distribution for latitudes but a skewed distribution for longitudes.\n",
    "- Plotting a scatterplot of latlong pairs doesn't show any special relationship between areas and interest level except maybe that bottom right points are usually low and top left points have more high interest plots. Converting the latlong pairs into categorical values by grouping points in the same area if they also have same interest level would help us combine the information provided by latitude and longitude, however that doesn't seem to do any benefit here. But its worth exploring.\n",
    "\n",
    "We have to deal with a lot of outliers in this data set. We have to decide on what points are outliers and how to deal with them.  \n",
    "For identifying outliers: https://towardsdatascience.com/ways-to-detect-and-remove-the-outliers-404d16608dba  \n",
    "We can either remove or approximate outliers."
   ]
  },
  {
   "cell_type": "markdown",
   "metadata": {
    "_uuid": "bac6136b46673609450353b69c43e2227455a0f1"
   },
   "source": [
    "# TODO\n",
    "- Analyze text attributes"
   ]
  }
 ],
 "metadata": {
  "kernelspec": {
   "display_name": "machine-learning",
   "language": "python",
   "name": "machine-learning"
  },
  "language_info": {
   "codemirror_mode": {
    "name": "ipython",
    "version": 3
   },
   "file_extension": ".py",
   "mimetype": "text/x-python",
   "name": "python",
   "nbconvert_exporter": "python",
   "pygments_lexer": "ipython3",
   "version": "3.7.0"
  }
 },
 "nbformat": 4,
 "nbformat_minor": 1
}
